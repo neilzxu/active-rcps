{
 "cells": [
  {
   "cell_type": "code",
   "execution_count": 1,
   "id": "520bdedc-f65e-4b22-93f7-8f61cdf5bcda",
   "metadata": {},
   "outputs": [],
   "source": [
    "import numpy as np\n",
    "import matplotlib\n",
    "import matplotlib.pyplot as plt\n",
    "import scipy.stats\n",
    "import confseq\n",
    "from confseq.conjmix_bounded import *\n",
    "import multiprocess as mp\n",
    "from tqdm.notebook import tqdm"
   ]
  },
  {
   "cell_type": "code",
   "execution_count": 2,
   "id": "8e34bd4e-0e13-4ecc-a402-9a3448097bf1",
   "metadata": {},
   "outputs": [],
   "source": [
    "from scipy.special import expit"
   ]
  },
  {
   "cell_type": "code",
   "execution_count": 3,
   "id": "5c70c08d-2b9b-43a6-929b-32b5676663bd",
   "metadata": {},
   "outputs": [],
   "source": [
    "def gen_logit_data(X=None, beta=None, beta_norm=3, var=1, n=1000, d=10, seed=None):\n",
    "    rng = np.random.default_rng(seed=seed)\n",
    "    if X is None:\n",
    "        X = rng.normal(size=(n, d))\n",
    "    if beta is None:\n",
    "        beta = rng.normal(size=(d + 1))\n",
    "        beta = beta / np.linalg.norm(beta) * beta_norm\n",
    "    coef, bias = beta[:(-1)], beta[-1]\n",
    "    Y = rng.binomial(1, expit(X.dot(coef) + bias))\n",
    "    return Y, X, coef, bias"
   ]
  },
  {
   "cell_type": "code",
   "execution_count": 4,
   "id": "63e52084-5ab7-402e-8e02-01ce1df9576f",
   "metadata": {},
   "outputs": [
    {
     "name": "stdout",
     "output_type": "stream",
     "text": [
      "[ 0.98297473 -1.90200438 -0.34104811  0.58016974 -1.0934589  -0.38466286\n",
      "  1.13143942 -0.20046086  0.96767645 -0.0155843 ] -0.6021885901714426\n"
     ]
    }
   ],
   "source": [
    "seed = 322\n",
    "d = 10\n",
    "train_n = 100\n",
    "train_Y, train_X, true_coef, true_bias = gen_logit_data(n=100, d=10, seed=seed)\n",
    "print(true_coef, true_bias)"
   ]
  },
  {
   "cell_type": "code",
   "execution_count": 5,
   "id": "3023e70c-62c4-4fde-ba42-9088430a2465",
   "metadata": {},
   "outputs": [
    {
     "data": {
      "text/plain": [
       "(Text(0.5, 0, '$X_1$'), Text(0, 0.5, '$X_2$'))"
      ]
     },
     "execution_count": 5,
     "metadata": {},
     "output_type": "execute_result"
    },
    {
     "data": {
      "image/png": "[encoded data removed]",
      "text/plain": [
       "<Figure size 640x480 with 1 Axes>"
      ]
     },
     "metadata": {},
     "output_type": "display_data"
    }
   ],
   "source": [
    "fig, ax = plt.figure(), plt.gca()\n",
    "ax.scatter(train_X[train_Y == 1, 1], train_X[train_Y == 1, 2], color='red', label='1')\n",
    "ax.scatter(train_X[train_Y == 0, 1], train_X[train_Y == 0, 2], color='blue', label='0')\n",
    "ax.set_xlabel('$X_1$'), ax.set_ylabel('$X_2$')"
   ]
  },
  {
   "cell_type": "code",
   "execution_count": 6,
   "id": "1ab248d7-fcea-4b96-b850-f0c6d75ae54a",
   "metadata": {},
   "outputs": [],
   "source": [
    "import sklearn\n",
    "import sklearn.linear_model as sklm"
   ]
  },
  {
   "cell_type": "code",
   "execution_count": 7,
   "id": "e4267660-3916-4f3a-8e04-2adc72b781e8",
   "metadata": {},
   "outputs": [
    {
     "data": {
      "text/html": [
       "<style>#sk-container-id-1 {color: black;}#sk-container-id-1 pre{padding: 0;}#sk-container-id-1 div.sk-toggleable {background-color: white;}#sk-container-id-1 label.sk-toggleable__label {cursor: pointer;display: block;width: 100%;margin-bottom: 0;padding: 0.3em;box-sizing: border-box;text-align: center;}#sk-container-id-1 label.sk-toggleable__label-arrow:before {content: \"▸\";float: left;margin-right: 0.25em;color: #696969;}#sk-container-id-1 label.sk-toggleable__label-arrow:hover:before {color: black;}#sk-container-id-1 div.sk-estimator:hover label.sk-toggleable__label-arrow:before {color: black;}#sk-container-id-1 div.sk-toggleable__content {max-height: 0;max-width: 0;overflow: hidden;text-align: left;background-color: #f0f8ff;}#sk-container-id-1 div.sk-toggleable__content pre {margin: 0.2em;color: black;border-radius: 0.25em;background-color: #f0f8ff;}#sk-container-id-1 input.sk-toggleable__control:checked~div.sk-toggleable__content {max-height: 200px;max-width: 100%;overflow: auto;}#sk-container-id-1 input.sk-toggleable__control:checked~label.sk-toggleable__label-arrow:before {content: \"▾\";}#sk-container-id-1 div.sk-estimator input.sk-toggleable__control:checked~label.sk-toggleable__label {background-color: #d4ebff;}#sk-container-id-1 div.sk-label input.sk-toggleable__control:checked~label.sk-toggleable__label {background-color: #d4ebff;}#sk-container-id-1 input.sk-hidden--visually {border: 0;clip: rect(1px 1px 1px 1px);clip: rect(1px, 1px, 1px, 1px);height: 1px;margin: -1px;overflow: hidden;padding: 0;position: absolute;width: 1px;}#sk-container-id-1 div.sk-estimator {font-family: monospace;background-color: #f0f8ff;border: 1px dotted black;border-radius: 0.25em;box-sizing: border-box;margin-bottom: 0.5em;}#sk-container-id-1 div.sk-estimator:hover {background-color: #d4ebff;}#sk-container-id-1 div.sk-parallel-item::after {content: \"\";width: 100%;border-bottom: 1px solid gray;flex-grow: 1;}#sk-container-id-1 div.sk-label:hover label.sk-toggleable__label {background-color: #d4ebff;}#sk-container-id-1 div.sk-serial::before {content: \"\";position: absolute;border-left: 1px solid gray;box-sizing: border-box;top: 0;bottom: 0;left: 50%;z-index: 0;}#sk-container-id-1 div.sk-serial {display: flex;flex-direction: column;align-items: center;background-color: white;padding-right: 0.2em;padding-left: 0.2em;position: relative;}#sk-container-id-1 div.sk-item {position: relative;z-index: 1;}#sk-container-id-1 div.sk-parallel {display: flex;align-items: stretch;justify-content: center;background-color: white;position: relative;}#sk-container-id-1 div.sk-item::before, #sk-container-id-1 div.sk-parallel-item::before {content: \"\";position: absolute;border-left: 1px solid gray;box-sizing: border-box;top: 0;bottom: 0;left: 50%;z-index: -1;}#sk-container-id-1 div.sk-parallel-item {display: flex;flex-direction: column;z-index: 1;position: relative;background-color: white;}#sk-container-id-1 div.sk-parallel-item:first-child::after {align-self: flex-end;width: 50%;}#sk-container-id-1 div.sk-parallel-item:last-child::after {align-self: flex-start;width: 50%;}#sk-container-id-1 div.sk-parallel-item:only-child::after {width: 0;}#sk-container-id-1 div.sk-dashed-wrapped {border: 1px dashed gray;margin: 0 0.4em 0.5em 0.4em;box-sizing: border-box;padding-bottom: 0.4em;background-color: white;}#sk-container-id-1 div.sk-label label {font-family: monospace;font-weight: bold;display: inline-block;line-height: 1.2em;}#sk-container-id-1 div.sk-label-container {text-align: center;}#sk-container-id-1 div.sk-container {/* jupyter's `normalize.less` sets `[hidden] { display: none; }` but bootstrap.min.css set `[hidden] { display: none !important; }` so we also need the `!important` here to be able to override the default hidden behavior on the sphinx rendered scikit-learn.org. See: https://github.com/scikit-learn/scikit-learn/issues/21755 */display: inline-block !important;position: relative;}#sk-container-id-1 div.sk-text-repr-fallback {display: none;}</style><div id=\"sk-container-id-1\" class=\"sk-top-container\"><div class=\"sk-text-repr-fallback\"><pre>LogisticRegression(penalty=None, random_state=322)</pre><b>In a Jupyter environment, please rerun this cell to show the HTML representation or trust the notebook. <br />On GitHub, the HTML representation is unable to render, please try loading this page with nbviewer.org.</b></div><div class=\"sk-container\" hidden><div class=\"sk-item\"><div class=\"sk-estimator sk-toggleable\"><input class=\"sk-toggleable__control sk-hidden--visually\" id=\"sk-estimator-id-1\" type=\"checkbox\" checked><label for=\"sk-estimator-id-1\" class=\"sk-toggleable__label sk-toggleable__label-arrow\">LogisticRegression</label><div class=\"sk-toggleable__content\"><pre>LogisticRegression(penalty=None, random_state=322)</pre></div></div></div></div></div>"
      ],
      "text/plain": [
       "LogisticRegression(penalty=None, random_state=322)"
      ]
     },
     "execution_count": 7,
     "metadata": {},
     "output_type": "execute_result"
    }
   ],
   "source": [
    "learned_model = sklm.LogisticRegression(penalty=None, random_state=seed)\n",
    "learned_model.fit(train_X, train_Y)"
   ]
  },
  {
   "cell_type": "code",
   "execution_count": 12,
   "id": "7d5ed918-eeaf-4a6c-8ebf-5dafd9f4f42f",
   "metadata": {},
   "outputs": [],
   "source": [
    "test_Y, test_X, _, _ = gen_logit_data(beta=np.concatenate([true_coef, np.array(true_bias).reshape(-1)]), n=1000, seed=seed + 1)"
   ]
  },
  {
   "cell_type": "code",
   "execution_count": 13,
   "id": "29592529-e931-4f51-82c3-3513863a34bb",
   "metadata": {},
   "outputs": [
    {
     "name": "stdout",
     "output_type": "stream",
     "text": [
      "0.453\n"
     ]
    }
   ],
   "source": [
    "print(np.sum(test_Y) / len(test_Y))"
   ]
  },
  {
   "cell_type": "code",
   "execution_count": 14,
   "id": "b0f17432-7705-41d2-9710-ffa7b4c32f5e",
   "metadata": {},
   "outputs": [],
   "source": [
    "learned_prob = learned_model.predict_proba(test_X)"
   ]
  },
  {
   "cell_type": "code",
   "execution_count": 17,
   "id": "a506c892-291f-4bd8-892f-3dcc9b5c13ad",
   "metadata": {},
   "outputs": [],
   "source": [
    "mc_Y, mc_X, _, _ = gen_logit_data(beta=np.concatenate([true_coef, np.array(true_bias).reshape(-1)]), n=100000, seed=seed + 2)\n",
    "mc_probs = learned_model.predict_proba(mc_X)"
   ]
  },
  {
   "cell_type": "code",
   "execution_count": 18,
   "id": "57033c58-f016-49a7-aa19-2cee6c220752",
   "metadata": {},
   "outputs": [],
   "source": [
    "import scipy\n",
    "import scipy.optimize"
   ]
  },
  {
   "cell_type": "code",
   "execution_count": 19,
   "id": "53eb5123-445f-43f2-a408-f95c4f077616",
   "metadata": {},
   "outputs": [
    {
     "data": {
      "text/plain": [
       "(Text(0.5, 0, '$\\\\beta$'),\n",
       " Text(0, 0.5, 'FP'),\n",
       " Text(0.5, 1.0, 'Smallest $\\\\beta$ with FP($\\\\beta$) $\\\\leq$ $\\\\theta$ is 0.502'))"
      ]
     },
     "execution_count": 19,
     "metadata": {},
     "output_type": "execute_result"
    },
    {
     "data": {
      "image/png": "[encoded data removed]",
      "text/plain": [
       "<Figure size 640x480 with 1 Axes>"
      ]
     },
     "metadata": {},
     "output_type": "display_data"
    }
   ],
   "source": [
    "def calc_fp(beta):\n",
    "    return np.mean((mc_probs[:, 1] > beta).astype(int) * (1 - mc_Y).astype(int))\n",
    "\n",
    "theta = 0.05\n",
    "sol = scipy.optimize.root_scalar(lambda beta: calc_fp(beta) - theta, x0=0.5, bracket=(0., 1.))\n",
    "\n",
    "fig, ax = plt.figure(), plt.gca()\n",
    "beta_choices = np.linspace(0, 1, 100)\n",
    "ax.plot(beta_choices, [calc_fp(beta) for beta in beta_choices])\n",
    "ax.axhline(0.05, color='gray', linestyle='dashed')\n",
    "ax.axvline(sol.root, color='gray', linestyle='dashed')\n",
    "ax.set_xlabel('$\\\\beta$'), ax.set_ylabel('FP'), ax.set_title(f'Smallest $\\\\beta$ with FP($\\\\beta$) $\\\\leq$ $\\\\theta$ is {sol.root:.3f}')"
   ]
  },
  {
   "cell_type": "markdown",
   "id": "129e7fbb-93c2-491f-aeb7-d42aa3c844fb",
   "metadata": {},
   "source": [
    "# Martingale for standard case"
   ]
  },
  {
   "cell_type": "code",
   "execution_count": 20,
   "id": "201fbf1c-569b-4a59-9483-51e1da4a879e",
   "metadata": {},
   "outputs": [],
   "source": [
    "def binary_fp_mart_fn(x, beta, **kwargs):\n",
    "    \"\"\"Martingale where we let l(X, Y, beta) be the empirical false positive indicator for binary classification.\n",
    "    \n",
    "    1 is positive. 0 is negative.\n",
    "    \n",
    "    :x: tuple of class probabilities and true class labels\n",
    "    :beta: parameter in [0, 1]\n",
    "    :theta: risk control parameter in [0, 1]\"\"\"\n",
    "    fit_prob, Y, theta = x.T\n",
    "    return confseq.betting.betting_mart(1 * (fit_prob > beta).astype(float) * (1 - Y).astype(float), 1 * theta[0], **kwargs)\n",
    "\n",
    "def binary_fp_cs(fit_prob, Y, theta, alpha, **kwargs):\n",
    "    x = np.array([fit_prob, Y, np.full(fit_prob.shape, theta)]).T\n",
    "    return confseq.betting.cs_from_martingale(x, binary_fp_mart_fn, alpha=alpha, **kwargs)"
   ]
  },
  {
   "cell_type": "code",
   "execution_count": 21,
   "id": "1dd2d6e4-79e1-4b79-9d40-099b83e26669",
   "metadata": {},
   "outputs": [
    {
     "name": "stdout",
     "output_type": "stream",
     "text": [
      "0.6900037967242785 -1.5078129627443213 2.995732273553991\n"
     ]
    },
    {
     "data": {
      "image/png": "[encoded data removed]",
      "text/plain": [
       "<Figure size 1600x400 with 2 Axes>"
      ]
     },
     "metadata": {},
     "output_type": "display_data"
    }
   ],
   "source": [
    "class UpperMartingale:\n",
    "    def __init__(self, *, rho, rho_max, theta, beta_min, beta_max, delta_beta, alpha):\n",
    "        from collections import defaultdict\n",
    "        from math import log\n",
    "    \n",
    "        assert rho_max > 0\n",
    "        assert 0 <= theta <= rho_max\n",
    "        assert beta_min < beta_max\n",
    "        assert delta_beta > 0\n",
    "        assert 0 < alpha < 1\n",
    "        \n",
    "        self.rho = rho\n",
    "        self.rho_max = rho_max\n",
    "        self.theta = theta\n",
    "        self.beta_min = beta_min\n",
    "        self.beta_max = beta_max\n",
    "        self.delta_beta = delta_beta\n",
    "        self.alpha = alpha\n",
    "        \n",
    "        self.stats = defaultdict(lambda: [0, 0, 0])\n",
    "        self.curlam = 0\n",
    "        self.phicurlam = self._phi(self.curlam)\n",
    "        self.maxlam = 1/(2*rho_max)\n",
    "        self.curbeta = beta_max\n",
    "        self.thres = -log(alpha)\n",
    "        self._updatecurbetatest(max(beta_max - delta_beta, beta_min))\n",
    "        self.betaminlogwealth = 0\n",
    "        \n",
    "    def addobs(self, x):\n",
    "        self.stats[x][0] += 1\n",
    "        self.stats[x][1] += self.curlam\n",
    "        self.stats[x][2] += self.phicurlam\n",
    "        \n",
    "        ximin = self.theta - self.rho(x, self.beta_min)\n",
    "        self.betaminlogwealth += self.curlam * ximin - self.phicurlam * ximin**2\n",
    "        \n",
    "        xitest = self.theta - self.rho(x, self.curbetatest)\n",
    "        self.curbetatestlogwealth += self.curlam * xitest - self.phicurlam * xitest**2\n",
    "        self.curbetatestnum += xitest\n",
    "        self.curbetatestdenom += xitest**2\n",
    "        \n",
    "        if self.curbetatestnum <= 0:\n",
    "            self.curlam = 0\n",
    "        elif self.curbetatestnum <= self.maxlam * (self.curbetatestnum + self.curbetatestdenom):\n",
    "            self.curlam = self.curbetatestnum / (self.curbetatestnum + self.curbetatestdenom)\n",
    "        else:\n",
    "            self.curlam = self.maxlam\n",
    "            \n",
    "        self.phicurlam = self._phi(self.curlam)\n",
    "\n",
    "    def getbeta(self):\n",
    "        if self.curbetatestlogwealth > self.thres:\n",
    "            self._updatecs()\n",
    "        return self.curbeta\n",
    "    \n",
    "    def _phi(self, x):\n",
    "        from math import log1p\n",
    "        return -x - log1p(-x)\n",
    "        \n",
    "    def _updatecurbetatest(self, beta):\n",
    "        logw, num, denom = 0, 0, 0\n",
    "        for x, stats in self.stats.items():\n",
    "            xi = self.theta - self.rho(x, beta)\n",
    "            logw += stats[1] * xi - stats[2] * xi**2\n",
    "            num += stats[0] * xi\n",
    "            denom += stats[0] * xi**2\n",
    "            \n",
    "        self.curbetatest = beta\n",
    "        self.curbetatestlogwealth = logw\n",
    "        self.curbetatestnum = num\n",
    "        self.curbetatestdenom = denom       \n",
    "    \n",
    "    def _updatecs(self):\n",
    "        from scipy import optimize as so\n",
    "        if self.curbetatest <= self.beta_min:\n",
    "            return\n",
    "        \n",
    "        maxbeta = self.curbetatest\n",
    "        maxbetawealth = self.curbetatestlogwealth\n",
    "        if maxbetawealth < self.thres:\n",
    "            return\n",
    "                \n",
    "        minbeta = self.beta_min\n",
    "        minbetawealth = self.betaminlogwealth\n",
    "        if minbetawealth >= self.thres:\n",
    "            self.curbeta = self.beta_min\n",
    "            self._updatecurbetatest(self.beta_min)\n",
    "            return\n",
    "        \n",
    "        def logwealth(beta):\n",
    "            logw = 0\n",
    "            for x, stats in self.stats.items():\n",
    "                xi = self.theta - self.rho(x, beta)\n",
    "                logw += stats[1] * xi - stats[2] * xi**2\n",
    "                \n",
    "            return logw\n",
    "                        \n",
    "        res = so.root_scalar(\n",
    "            f = lambda beta: logwealth(beta)-self.thres, \n",
    "            xtol = self.delta_beta/10,\n",
    "            method = 'brentq',\n",
    "            bracket = [ minbeta, maxbeta ])\n",
    "        assert res.converged, res\n",
    "        self.curbeta = res.root\n",
    "        self._updatecurbetatest(max(self.curbeta - self.delta_beta, self.beta_min))\n",
    "\n",
    "        \n",
    "def upper_mart_cs(fit_prob, Y, theta, alpha):\n",
    "    def rho(x, beta):\n",
    "        p, Y = x\n",
    "        return (p >= beta) * (1 - Y)\n",
    "    \n",
    "    cs = UpperMartingale(rho=rho, rho_max=1, theta=theta, beta_min=0, beta_max=1, delta_beta=1e-3, alpha=alpha)\n",
    "        \n",
    "    rv = []\n",
    "    for p, Y in zip(fit_prob, Y):\n",
    "        cs.addobs((p, Y))\n",
    "        rv.append(cs.getbeta())\n",
    "    return rv\n",
    "    \n",
    "    \n",
    "def test_once(gen, n_max):\n",
    "    # p is the true probability of a positive \n",
    "    # our decision is 1_{beta <= p}\n",
    "    # if beta > p we say negative so no risk\n",
    "    # if beta <= p then we have a false positive with probability (1 - p)\n",
    "    \n",
    "    def rho(p, beta):\n",
    "        return 0 if beta > p else (1 - p)\n",
    "    \n",
    "    cs = UpperMartingale(rho=rho, rho_max=1, theta=0.05, beta_min=0, beta_max=1, delta_beta=1e-3, alpha=0.05)\n",
    "        \n",
    "    rv = []\n",
    "        \n",
    "    for n in range(n_max):\n",
    "        p = round(gen.uniform(), 2)\n",
    "        cs.addobs(p)\n",
    "        rv.append(cs.getbeta())\n",
    "        \n",
    "    print(cs.curbeta, cs.curbetatestlogwealth, cs.thres)\n",
    "\n",
    "    return rv\n",
    "        \n",
    "def test():\n",
    "    import matplotlib.pyplot as plt\n",
    "    import numpy as np\n",
    "    \n",
    "    fig, (ax1, ax2) = plt.subplots(1, 2)\n",
    "    fig.set_size_inches(16, 4)\n",
    "    \n",
    "    gen = np.random.default_rng(1)\n",
    "    curve = test_once(gen, 5000)\n",
    "    ax1.plot(curve, label='beta')\n",
    "    ax1.title.set_text('beta')\n",
    "    \n",
    "    truefp = lambda z: (100 - int(z)) * (101 - int(z)) / 20_000\n",
    "    ax2.plot([ truefp(100*beta) for beta in curve ], label='truefp')\n",
    "    ax2.plot([ 0.05 for beta in curve ], linestyle='dashed')\n",
    "    ax2.title.set_text('false positive rate')\n",
    "    \n",
    "test()"
   ]
  },
  {
   "cell_type": "code",
   "execution_count": 27,
   "id": "393f5553-48be-4566-beb1-e327ad9d5dd5",
   "metadata": {},
   "outputs": [],
   "source": [
    "cs_test = binary_fp_cs(learned_prob[:, 1], test_Y, theta=0.05, alpha=0.05 * 2)"
   ]
  },
  {
   "cell_type": "code",
   "execution_count": 28,
   "id": "e30ecf96-5c09-4678-89d8-1727d690086c",
   "metadata": {},
   "outputs": [],
   "source": [
    "um_cs_test = upper_mart_cs(learned_prob[:, 1], test_Y, theta=0.05, alpha=0.05 * 2)"
   ]
  },
  {
   "cell_type": "code",
   "execution_count": 29,
   "id": "f1f8a169-3421-4a50-bc78-5f013a48c93a",
   "metadata": {},
   "outputs": [
    {
     "data": {
      "text/plain": [
       "<matplotlib.legend.Legend at 0x7f5be070f790>"
      ]
     },
     "execution_count": 29,
     "metadata": {},
     "output_type": "execute_result"
    },
    {
     "data": {
      "image/png": "[encoded data removed]",
      "text/plain": [
       "<Figure size 640x480 with 1 Axes>"
      ]
     },
     "metadata": {},
     "output_type": "display_data"
    }
   ],
   "source": [
    "fig, ax = plt.figure(), plt.gca()\n",
    "ax.plot(np.arange(len(cs_test[1])), cs_test[1], label='empirical-Bernstein lambda')\n",
    "ax.plot(np.arange(len(cs_test[1])), um_cs_test, label='upper martingale')\n",
    "ax.axhline(sol.root, color='gray', linestyle='dashed')\n",
    "ax.legend()"
   ]
  },
  {
   "cell_type": "markdown",
   "id": "f0e5005d-dbb5-4a95-931f-b21628cfc6d4",
   "metadata": {},
   "source": [
    "# Active labeled martingale"
   ]
  },
  {
   "cell_type": "code",
   "execution_count": 31,
   "id": "597bc004-29c9-4932-aa30-d022687abea4",
   "metadata": {},
   "outputs": [
    {
     "data": {
      "text/plain": [
       "'\\ndef make_reward( \\n\\n\\ndef label_policy_cs(X, Y, ell, theta, alpha, budget, seed=None):\\n    \\n    gamma = torch.autograd.Variable()\\n    q = torch.autograd.Variable()\\n    \\n    # for i, (x, y) in enumerate(zip(X, Y)):\\n'"
      ]
     },
     "execution_count": 31,
     "metadata": {},
     "output_type": "execute_result"
    }
   ],
   "source": [
    "def active_binary_fp_mart_fn(x, beta, alpha, q_max, **kwargs):\n",
    "    \"\"\"Martingale where we let l(X, Y, beta) be the empirical false positive indicator for binary classification.\n",
    "    \n",
    "    1 is positive. 0 is negative.\n",
    "    \n",
    "    :x: tuple of class probabilities and true class labels\n",
    "    :beta: parameter in [0, 1]\n",
    "    :theta: risk control parameter in [0, 1]\"\"\"\n",
    "    fit_prob, Y, q, ind, theta = x.T\n",
    "    r = (fit_prob > beta).astype(float) * (1 - Y).astype(float) # bounded between 0 and 1\n",
    "    ipw_outcomes = (ind / q) * r\n",
    "    # print(ipw_outcomes[:10])\n",
    "    lams = confseq.betting_strategies.lambda_predmix_eb(ipw_outcomes, truncation=q_max, alpha=alpha)\n",
    "    diffs = theta[0] - ipw_outcomes # theta also bounded between 0 and 1\n",
    "    \n",
    "    mart = np.cumprod(1 + lams * diffs)\n",
    "    \n",
    "    return mart\n",
    "\n",
    "def active_binary_fp_cs(fit_prob, Y, q, ind, theta, alpha, q_max, **kwargs):\n",
    "    x = np.array([fit_prob, Y, q, ind, np.full(fit_prob.shape, theta)]).T\n",
    "    return confseq.betting.cs_from_martingale(x, lambda x, m: active_binary_fp_mart_fn(x, m, alpha=alpha, q_max=q_max), \\\n",
    "                                              alpha=alpha, **kwargs)\n",
    "\n",
    "def rand_policy(fit_prob, Y, theta, alpha, budget: float, seed=None):\n",
    "    q = np.full(fit_prob.shape, budget)\n",
    "    rng = np.random.default_rng(seed)\n",
    "    return q, rng.binomial(1, q)\n",
    "\n",
    "\n",
    "\n",
    "def reward_fn(r, q, ind, theta, lam):\n",
    "    return np.log(1 + lam * (theta - (ind * r / q)))\n",
    "\n",
    "import torch\n",
    "\n",
    "\n",
    "def lagrange_loss(q, gamma, B, theta, reward): \n",
    "    return torch.log(1 + lam * (theta - reward)) + gamma * (q - B)\n",
    "\"\"\"\n",
    "def make_reward( \n",
    "\n",
    "\n",
    "def label_policy_cs(X, Y, ell, theta, alpha, budget, seed=None):\n",
    "    \n",
    "    gamma = torch.autograd.Variable()\n",
    "    q = torch.autograd.Variable()\n",
    "    \n",
    "    # for i, (x, y) in enumerate(zip(X, Y)):\n",
    "\"\"\""
   ]
  },
  {
   "cell_type": "code",
   "execution_count": 32,
   "id": "72bfec85-b454-45cd-9755-2924cf5af696",
   "metadata": {},
   "outputs": [],
   "source": [
    "import torch\n",
    "from torch.autograd import Variable\n",
    "import torch.nn.functional as F\n"
   ]
  },
  {
   "cell_type": "markdown",
   "id": "252461f4-0b06-48cb-a64b-fa2217636ab4",
   "metadata": {},
   "source": [
    "## Policy classes"
   ]
  },
  {
   "cell_type": "code",
   "execution_count": 34,
   "id": "ab765044-e981-4540-ab87-541d01ba5ebe",
   "metadata": {},
   "outputs": [],
   "source": [
    "class Policy:\n",
    "    def get_q_var(self, x):\n",
    "        pass\n",
    "    def give_feedback(self, y):\n",
    "        pass\n",
    "    \n",
    "    def set_dual_max(self, dual_max):\n",
    "        pass\n",
    "\n",
    "class BaseRatePolicy(Policy):\n",
    "    def __init__(self, q: float):\n",
    "        super(BaseRatePolicy, self).__init__()\n",
    "        self.q = torch.nn.init.constant_(torch.empty(1), q)\n",
    "    def get_q_var(self, x):\n",
    "        return self.q\n",
    "    \n",
    "def step_optimizer(loss, optimizer):\n",
    "    loss.backward()\n",
    "    optimizer.step()\n",
    "    optimizer.zero_grad()\n",
    "\n",
    "def bin_features(x, coef, bias, d):\n",
    "    p = expit(x.dot(coef) + bias)\n",
    "    one_hots = np.zeros(shape=(x.shape[0], d))\n",
    "    one_hots[:, np.floor(p * d).astype(int)] = 1.\n",
    "    return one_hots\n",
    "\n",
    "class LogReg(torch.nn.Module):\n",
    "    def __init__(self, featurizer, d):\n",
    "        super(LogReg, self).__init__()\n",
    "        self.featurizer = featurizer\n",
    "        self.beta = torch.nn.Linear(d, 1)\n",
    "        \n",
    "    def forward(self, x):\n",
    "        return F.sigmoid(self.beta(torch.tensor(self.featurizer(x)).float()))\n",
    "\n",
    "class DiffPolicy(Policy):\n",
    "    def __init__(self, predictor_model, optimizer_fn, budget, q_min, dual_mode='best_response', \\\n",
    "                 dual_optimizer_fn=None, dual_max=None):\n",
    "        assert dual_mode == 'best_response' and dual_max is not None or dual_optimizer_fn is not None\n",
    "        \n",
    "        self.predictor_model = predictor_model\n",
    "        self.q_min = q_min\n",
    "        self.optimizer = optimizer_fn(predictor_model.parameters())\n",
    "        \n",
    "        self.dual_mode = dual_mode\n",
    "        self.dual_v = torch.tensor(0., requires_grad=True)\n",
    "        if dual_optimizer_fn is not None:\n",
    "            self.dual_optimizer = dual_optimizer_fn([dual_v])\n",
    "        self.dual_max = dual_max\n",
    "        \n",
    "    def set_dual_max(self, dual_max):\n",
    "        self.dual_max = dual_max\n",
    "        \n",
    "    def get_q_var(self, x):\n",
    "        return self.q_min + (1 - self.q_min) * self.predictor_model.forward(x)\n",
    "    \n",
    "    def get_feedback(self, util, x=None, q_var=None):\n",
    "        if q_var is None:\n",
    "            q_var = self.get_q_var(x.reshape(1, -1))    \n",
    "        \n",
    "        if dual_mode == 'best_response':\n",
    "            self.dual_v.data = dual_max if q_var.data > self.budget else 0\n",
    "        else:\n",
    "            dual_loss = self.dual_v * (self.budget - q_var)\n",
    "            if dual_mode == 'be_the_leader':\n",
    "                step_optimizer(dual_loss, self.dual_optimizer)\n",
    "        primal_loss = -util + self.dual_v * q_var\n",
    "        step_optimizer(primal_loss, self.optimizer)\n",
    "        \n",
    "        if dual_mode == 'follow_the_leader':\n",
    "            step_optimizer(dual_loss, self.dual_optimizer)\n",
    "        \n",
    "    "
   ]
  },
  {
   "cell_type": "markdown",
   "id": "15b42771-a08d-4ce8-b147-0ff5bb63efbf",
   "metadata": {},
   "source": [
    "## Iterative Active Martingale implementation"
   ]
  },
  {
   "cell_type": "code",
   "execution_count": 35,
   "id": "55127298-5bfd-4435-be5e-821dcdcea5f7",
   "metadata": {},
   "outputs": [],
   "source": [
    "class ActiveUpperMartingale:\n",
    "    def __init__(self, *, rho, rho_max, q_min, theta, beta_min, beta_max, delta_beta, budget, model, alpha):\n",
    "        from collections import defaultdict\n",
    "        from math import log\n",
    "    \n",
    "        assert rho_max > 0\n",
    "        assert 0 <= theta <= rho_max\n",
    "        assert beta_min < beta_max\n",
    "        assert delta_beta > 0\n",
    "        assert 0 < alpha < 1\n",
    "        \n",
    "        self.rho = lambda x, y, beta: 0 if y is None else rho(x, y, beta)\n",
    "        self.rho_max = rho_max\n",
    "        self.theta = theta\n",
    "        self.beta_min = beta_min\n",
    "        self.beta_max = beta_max\n",
    "        self.delta_beta = delta_beta\n",
    "        self.alpha = alpha\n",
    "        self.q_min = q_min\n",
    "        \n",
    "        self.stats = defaultdict(lambda: [0, 0, 0])\n",
    "        self.curlam = 0\n",
    "        self.phicurlam = self._phi(self.curlam)\n",
    "        self.maxlam = q_min/(2*rho_max)\n",
    "        self.curbeta = beta_max\n",
    "        self.thres = -log(alpha)\n",
    "        self._updatecurbetatest(max(beta_max - delta_beta, beta_min))\n",
    "        self.betaminlogwealth = 0\n",
    "        self.dual_max = (self.maxlam * self.rho_max + self.maxlam * (self.rho_max / self.q_min) + \\\n",
    "                        self._phi(self.maxlam) * np.square(self.rho_max * (1 - 1 / self.q_min))) / budget\n",
    "        \n",
    "        self.model = model\n",
    "        self.model.set_dual_max(self.dual_max)\n",
    "        \n",
    "        \n",
    "    def _log_wealth(self, lam, phi_lam, diff_var: torch.autograd.Variable):\n",
    "        return lam * diff_var - phi_lam * torch.square(diff_var)\n",
    "    \n",
    "    def addobs(self, score, y, x=None, q=None):\n",
    "        \"\"\"add observation\n",
    "        :param score: score (i.e., 1d param) we're trying to calibrate\n",
    "        :param x: covariate\n",
    "        :param q: probability of labeling this point\n",
    "        :param y: true label - None if we didn't get it\n",
    "        \"\"\"\n",
    "        assert q is None or q >= self.q_min\n",
    "        \n",
    "        q_val = q if q is not None else q.data\n",
    "        \n",
    "        \n",
    "        self.stats[(score, y, q)][0] += 1\n",
    "        self.stats[(score, y, q)][1] += self.curlam\n",
    "        self.stats[(score, y, q)][2] += self.phicurlam\n",
    "        \n",
    "        ximin = self.theta - self.rho(score, y, self.beta_min) / q_val\n",
    "        self.betaminlogwealth += self.curlam * ximin - self.phicurlam * ximin**2\n",
    "        \n",
    "        if q is None:\n",
    "            risk = self.rho(score, y, self.curbetatest)\n",
    "            q_var = self.model.get_q_var(x.reshape(1, -1))\n",
    "            diff_var = self.theta - risk / q_var\n",
    "            log_wealth_var = self._log_wealth(self.cur_lam, self.phicurlam, diff_var)\n",
    "            xitest = diff_var.data\n",
    "            self.curbetatestlogwealth += log_wealth_var.data\n",
    "            # update the model w/ feedback\n",
    "            self.model.get_feedback(log_wealth_var, q_var=q_var)\n",
    "        else:\n",
    "            xitest = self.theta - self.rho(score, y, self.curbetatest) / q\n",
    "            # print(xitest.shape, self.curbetatest, score.shape, y.shape)\n",
    "            self.curbetatestlogwealth += self.curlam * xitest - self.phicurlam * xitest**2\n",
    "\n",
    "            \n",
    "        self.curbetatestnum += xitest\n",
    "        self.curbetatestdenom += xitest**2\n",
    "\n",
    "        if self.curbetatestnum <= 0:\n",
    "            self.curlam = 0\n",
    "        elif self.curbetatestnum <= self.maxlam * (self.curbetatestnum + self.curbetatestdenom):\n",
    "            self.curlam = self.curbetatestnum / (self.curbetatestnum + self.curbetatestdenom)\n",
    "        else:\n",
    "            self.curlam = self.maxlam\n",
    "\n",
    "        self.phicurlam = self._phi(self.curlam)\n",
    "    \n",
    "    def getq(self, x):\n",
    "        return self.model.get_q_var(x.reshape(1, -1)).item()\n",
    "    \n",
    "    def getbeta(self):\n",
    "        if self.curbetatestlogwealth > self.thres:\n",
    "            self._updatecs()\n",
    "        return self.curbeta\n",
    "    \n",
    "    def _phi(self, x):\n",
    "        from math import log1p\n",
    "        return -x - log1p(-x)\n",
    "        \n",
    "    def _updatecurbetatest(self, beta):\n",
    "        logw, num, denom = 0, 0, 0\n",
    "        for (score, y, q), stats in self.stats.items():\n",
    "            xi = self.theta - self.rho(score, y, beta) / q\n",
    "            logw += stats[1] * xi - stats[2] * xi**2\n",
    "            num += stats[0] * xi\n",
    "            denom += stats[0] * xi**2\n",
    "            \n",
    "        self.curbetatest = beta\n",
    "        self.curbetatestlogwealth = logw\n",
    "        self.curbetatestnum = num\n",
    "        self.curbetatestdenom = denom       \n",
    "    \n",
    "    def _updatecs(self):\n",
    "        from scipy import optimize as so\n",
    "        if self.curbetatest <= self.beta_min:\n",
    "            return\n",
    "        \n",
    "        maxbeta = self.curbetatest\n",
    "        maxbetawealth = self.curbetatestlogwealth\n",
    "        if maxbetawealth < self.thres:\n",
    "            return\n",
    "                \n",
    "        minbeta = self.beta_min\n",
    "        minbetawealth = self.betaminlogwealth\n",
    "        if minbetawealth >= self.thres:\n",
    "            self.curbeta = self.beta_min\n",
    "            self._updatecurbetatest(self.beta_min)\n",
    "            return\n",
    "        \n",
    "        def logwealth(beta):\n",
    "            logw = 0\n",
    "            for (x, y, q), stats in self.stats.items():\n",
    "                xi = self.theta - self.rho(x, y, beta) / q\n",
    "                logw += stats[1] * xi - stats[2] * xi**2\n",
    "                \n",
    "            return logw\n",
    "                        \n",
    "        res = so.root_scalar(\n",
    "            f = lambda beta: logwealth(beta)-self.thres, \n",
    "            xtol = self.delta_beta/10,\n",
    "            method = 'brentq',\n",
    "            bracket = [minbeta, maxbeta])\n",
    "        assert res.converged, res\n",
    "        self.curbeta = res.root\n",
    "        self._updatecurbetatest(max(self.curbeta - self.delta_beta, self.beta_min))\n",
    "\n",
    "def default_rho(score, y, beta):\n",
    "    return (score >= beta) * (1 - y)\n",
    "           \n",
    "def active_upper_mart_cs(scores, ys, theta, alpha, budget, model, xs=None, rho=default_rho, q_min=1, seed=None):\n",
    "    rng = np.random.default_rng(seed=seed)\n",
    "    \n",
    "    cs = ActiveUpperMartingale(rho=rho, rho_max=1, theta=theta, beta_min=0, beta_max=1, delta_beta=1e-3, q_min=q_min, \\\n",
    "                               alpha=alpha, budget=budget, model=model)\n",
    "        \n",
    "    rv = []\n",
    "    qs = []\n",
    "    did_labels = []\n",
    "    \n",
    "    if xs is None:\n",
    "        xs = [np.array(score).reshape(1, 1) for score in scores]\n",
    "    for x, score, y in zip(xs, scores, ys):\n",
    "        # print(x, score, y)\n",
    "        q = cs.getq(x)\n",
    "        qs.append(q)\n",
    "        did_label = rng.binomial(1, q)\n",
    "        cs.addobs(score=score, q=q, x=x, y=y if did_label else None)\n",
    "        did_labels.append(did_label)\n",
    "        rv.append(cs.getbeta())\n",
    "    return rv, qs, did_labels\n",
    "    "
   ]
  },
  {
   "cell_type": "markdown",
   "id": "c391df90-313e-4272-be19-48322917be0d",
   "metadata": {},
   "source": [
    "## Simulations"
   ]
  },
  {
   "cell_type": "code",
   "execution_count": 36,
   "id": "81c17824-a335-4722-9908-4eed23ed4a06",
   "metadata": {},
   "outputs": [],
   "source": [
    "budget = 0.8\n",
    "q_min = 0.2"
   ]
  },
  {
   "cell_type": "code",
   "execution_count": 45,
   "id": "1765b7af-7ebc-40cf-a053-e343ec4042fc",
   "metadata": {},
   "outputs": [
    {
     "name": "stdout",
     "output_type": "stream",
     "text": [
      "0.800000011920929\n"
     ]
    }
   ],
   "source": [
    "names = ['Baseline Act.', 'LogReg Act.']\n",
    "cses = []\n",
    "\n",
    "active_cs, qs, did_labels = active_upper_mart_cs(scores=learned_prob[:, 1], \\\n",
    "                                                 ys=test_Y, theta=0.05, alpha=0.05 * 2, \n",
    "                                                 budget=budget, q_min=q_min, model=BaseRatePolicy(budget), seed=323)\n",
    "print(np.mean(qs))\n",
    "cses.append(active_cs)\n",
    "# cses.append(upper_mart_cs(scores=learned_prob[:, 1], ys=test_Y, theta=0.05, alpha=0.05 * 2))"
   ]
  },
  {
   "cell_type": "code",
   "execution_count": 56,
   "id": "0aa47054-7762-4a33-bb87-62c5b6ed201e",
   "metadata": {},
   "outputs": [
    {
     "name": "stdout",
     "output_type": "stream",
     "text": [
      "How well did our online learner learn the correct probability weights?\n",
      "0.6181536831259727\n",
      "Probs under each bin tensor([[0.5012, 0.5710, 0.5676, 0.5393, 0.5216, 0.5310, 0.5763, 0.4970, 0.5086,\n",
      "         0.5027]])\n",
      "Approx correct probs [0.31622777 0.4472136  0.54772256 0.63245553 0.70710678 0.77459667\n",
      " 0.83666003 0.89442719 0.9486833  1.        ]\n"
     ]
    },
    {
     "data": {
      "image/png": "[encoded data removed]",
      "text/plain": [
       "<Figure size 640x480 with 1 Axes>"
      ]
     },
     "metadata": {},
     "output_type": "display_data"
    }
   ],
   "source": [
    "lr_model = LogReg(lambda x: bin_features(x, true_coef, true_bias, d=10), d=10)\n",
    "diff_policy = DiffPolicy(lr_model, torch.optim.Adam, budget=budget, q_min=q_min, dual_mode='best_response', dual_max=1)\n",
    "\n",
    "active_cs, qs, did_labels = active_upper_mart_cs(scores=learned_prob[:, 1], \\\n",
    "                                                 ys=test_Y, xs=test_X, theta=0.05, alpha=0.05 * 2, \n",
    "                                                 budget=budget, q_min=q_min, model=diff_policy, seed=323)\n",
    "print(\"How well did our online learner learn the correct probability weights?\")\n",
    "print('Average q', np.mean(qs))\n",
    "print('Probs under each bin', expit(lr_model.beta.weight.data + lr_model.beta.bias.data))\n",
    "print('Approx correct probs', np.sqrt(np.arange(0.1, 1.1, 0.1)))\n",
    "fig, ax = plt.figure(), plt.gca()\n",
    "ax.hist(qs)\n",
    "ax.set_xlim((0, 1))\n",
    "cses.append(active_cs)"
   ]
  },
  {
   "cell_type": "code",
   "execution_count": 47,
   "id": "5f57e030-004e-4715-82b0-60c76fa61b92",
   "metadata": {},
   "outputs": [
    {
     "data": {
      "text/plain": [
       "<matplotlib.legend.Legend at 0x7f5bc877f790>"
      ]
     },
     "execution_count": 47,
     "metadata": {},
     "output_type": "execute_result"
    },
    {
     "data": {
      "image/png": "[encoded data removed]",
      "text/plain": [
       "<Figure size 640x480 with 1 Axes>"
      ]
     },
     "metadata": {},
     "output_type": "display_data"
    }
   ],
   "source": [
    "fig, ax = plt.figure(), plt.gca()\n",
    "for name, cs in zip(names, cses):\n",
    "    ax.plot(np.arange(len(cs)), cs, label=name)\n",
    "#ax.plot(np.arange(len(active_cs)), active_cs, label='active cs test')\n",
    "ax.set_ylabel('Upper bound on $\\\\beta^*$'), ax.set_xlabel('$t$')\n",
    "ax.set_title('Different budget of $B \\cdot t$ with purely random policy')\n",
    "ax.legend()"
   ]
  },
  {
   "cell_type": "code",
   "execution_count": null,
   "id": "8a90efb9-8465-4fe5-871c-480500e483dc",
   "metadata": {},
   "outputs": [],
   "source": []
  },
  {
   "cell_type": "code",
   "execution_count": null,
   "id": "e52b5c98-ee9e-4f89-ac9d-ceb2a7aa2cb7",
   "metadata": {},
   "outputs": [],
   "source": []
  }
 ],
 "metadata": {
  "kernelspec": {
   "display_name": "Python 3 (ipykernel)",
   "language": "python",
   "name": "python3"
  },
  "language_info": {
   "codemirror_mode": {
    "name": "ipython",
    "version": 3
   },
   "file_extension": ".py",
   "mimetype": "text/x-python",
   "name": "python",
   "nbconvert_exporter": "python",
   "pygments_lexer": "ipython3",
   "version": "3.8.16"
  }
 },
 "nbformat": 4,
 "nbformat_minor": 5
}
